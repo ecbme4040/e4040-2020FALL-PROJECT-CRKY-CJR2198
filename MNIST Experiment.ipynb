{
 "cells": [
  {
   "cell_type": "markdown",
   "metadata": {},
   "source": [
    "# MNIST Generation of Labeled Data Experiments\n",
    "\n",
    "In this notebook, I extract MNIST data and train 3 different sets of DCGANs using each label and a proportion of the original dataset (20%,60%,80%). \n",
    "I then use the trained generators to generate labeled data to be used as training data for an EfficientNet classifier.\n",
    "\n",
    "I first convert all images to 32x32 (from 28x28) and save these images as JPG so that I can have identical input pipelines for the generated images and the original images.\n",
    "\n",
    "I then train separate DCGAN for each of the classes (0 through 9). Using the generator from the trained DCGAN I then generate 30,000 images for each class and save as JPG.\n",
    "\n",
    "I then train EfficientNet-B0 models using the generated data and evaluate against the test set. An EfficientNet-B0 model trained on the original dataset augmented with random rotation is used as a benchmark."
   ]
  },
  {
   "cell_type": "code",
   "execution_count": 59,
   "metadata": {},
   "outputs": [],
   "source": [
    "import tensorflow as tf\n",
    "import numpy as np\n",
    "import tensorflow.keras.layers as layers\n",
    "import matplotlib.pyplot as plt\n",
    "import numpy as np\n",
    "import PIL\n",
    "from IPython import display\n",
    "import tensorflow_datasets as tfds\n",
    "import warnings\n",
    "warnings.filterwarnings(\"ignore\")\n",
    "from PIL import Image\n",
    "import os\n",
    "import tensorflow_addons as tfa\n",
    "os.environ['TF_CPP_MIN_LOG_LEVEL'] = '3' "
   ]
  },
  {
   "cell_type": "code",
   "execution_count": 60,
   "metadata": {},
   "outputs": [],
   "source": [
    "tf.config.experimental.list_physical_devices('GPU')\n",
    "\n",
    "gpus=tf.config.experimental.list_physical_devices('GPU')\n",
    "for gpu in gpus:\n",
    "    tf.config.experimental.set_memory_growth(gpu, True)"
   ]
  },
  {
   "cell_type": "code",
   "execution_count": 61,
   "metadata": {},
   "outputs": [],
   "source": [
    "mnist = tfds.load('mnist')\n",
    "mnist_train = mnist['train']\n",
    "mnist_test = mnist['test']"
   ]
  },
  {
   "cell_type": "code",
   "execution_count": 62,
   "metadata": {},
   "outputs": [
    {
     "name": "stdout",
     "output_type": "stream",
     "text": [
      "INFO:tensorflow:Using MirroredStrategy with devices ('/job:localhost/replica:0/task:0/device:GPU:0', '/job:localhost/replica:0/task:0/device:GPU:1')\n"
     ]
    },
    {
     "name": "stderr",
     "output_type": "stream",
     "text": [
      "INFO:tensorflow:Using MirroredStrategy with devices ('/job:localhost/replica:0/task:0/device:GPU:0', '/job:localhost/replica:0/task:0/device:GPU:1')\n"
     ]
    }
   ],
   "source": [
    "strategy = tf.distribute.MirroredStrategy()"
   ]
  },
  {
   "cell_type": "code",
   "execution_count": 63,
   "metadata": {},
   "outputs": [],
   "source": [
    "@tf.function\n",
    "def prepare_image_minst(item):   \n",
    "    image = item['image']\n",
    "    label = item['label']\n",
    "    image = tf.image.resize(image,size=[32,32])\n",
    "    image = tf.cast(image, 'float32')\n",
    "    return image, label\n",
    "\n",
    "def remove_label(image, label):\n",
    "    return image\n",
    "\n",
    "    \n",
    "def determine_cardinality(dataset):\n",
    "    i = 0\n",
    "    for each in dataset:\n",
    "        i +=1\n",
    "    return i\n",
    "\n",
    "def update_generated_dataset (image, label):\n",
    "    image = image * (1./255.)\n",
    "    image = tf.image.grayscale_to_rgb(image, name=None)\n",
    "    label = tf.one_hot(label, 10)\n",
    "    return image, label\n",
    "\n",
    "def normalize_image (image, label):\n",
    "    image =  (image - 127.5) / 127.5 # normalize images to -1,1\n",
    "    return image, label\n",
    "\n",
    "## Image Augmentation Functions\n",
    "def transform_image (image):\n",
    "    image = tfa.image.rotate(image, tf.random.uniform([1],minval=-0.6, maxval=0.6), interpolation='BILINEAR')\n",
    "    return image\n",
    "\n",
    "def transform_images (image, label):\n",
    "    ret_images = [transform_image(image) for i in range(5)]\n",
    "    labels = [tf.one_hot(label, 10) for i in range(5)]\n",
    "    return ret_images, labels\n",
    "    \n",
    "### Convert to RGB for effnet\n",
    "def convert_to_rgb (image, label, augment=False):\n",
    "    image = tf.cast(image, tf.float32)\n",
    "    image = image * (1./255.)\n",
    "    image = tf.image.grayscale_to_rgb(image)\n",
    "    if augment == True:\n",
    "        image, label = transform_images(image,label)\n",
    "    else:\n",
    "        label = tf.one_hot(label, 10)\n",
    "    return image, label\n",
    "\n",
    "\n",
    "# First, save all train and test images as resized 32x32x1 images\n",
    "def resize_and_save_training_data (dataset,label_to_filter):\n",
    "    directory = 'MNIST/TrainImages/'+str(label_to_filter)+'/'\n",
    "    filtered_dataset = dataset.map(prepare_image_to_save, num_parallel_calls=tf.data.experimental.AUTOTUNE)\n",
    "    filtered_dataset = filtered_dataset.filter(lambda x, label: label==label_to_filter)\n",
    "    count = 0\n",
    "    for image, label in filtered_dataset:  \n",
    "        image = image.numpy()\n",
    "        image = image[:, :, 0]\n",
    "        image = image.astype(np.uint8)\n",
    "        image = Image.fromarray(image)\n",
    "        image.save(directory+str(count)+'.jpg')\n",
    "        count += 1\n",
    "    print(count)\n",
    "\n",
    "\n",
    "##Saves all test images to their folders\n",
    "def resize_and_save_test_data (dataset,label_to_filter):\n",
    "    directory = 'MNIST/TestImages/'+str(label_to_filter)+'/'\n",
    "    filtered_dataset = dataset.map(prepare_image_minst, num_parallel_calls=tf.data.experimental.AUTOTUNE)\n",
    "    filtered_dataset = filtered_dataset.filter(lambda x, label: label==label_to_filter)\n",
    "    count = 0\n",
    "    for image, label in filtered_dataset:  \n",
    "        image = image.numpy()\n",
    "        image = image[:, :, 0]\n",
    "        image = image.astype(np.uint8)\n",
    "        image = Image.fromarray(image)\n",
    "        image.save(directory+str(count)+'.jpg')\n",
    "        count += 1\n",
    "    print(count)\n",
    "\n",
    "\n",
    "### creates a dataset that is filtered on the specific label, auugments by randomly rotating\n",
    "### for dcgan training\n",
    "def create_minst_dataset(num_to_filter, mnist_train, percentage_to_train_on):\n",
    "    BUFFER_SIZE = 10000\n",
    "    BATCH_SIZE = 128 * strategy.num_replicas_in_sync\n",
    "    mnist_train = mnist_train.map(prepare_image_minst, num_parallel_calls=tf.data.experimental.AUTOTUNE)\n",
    "    mnist_train = mnist_train.shuffle(BUFFER_SIZE)\n",
    "    filtered_ds = mnist_train.filter(lambda x, label: label==num_to_filter)\n",
    "    cardinality = determine_cardinality(filtered_ds)\n",
    "    filtered_ds = filtered_ds.take(int(cardinality * percentage_to_train_on))\n",
    "    filtered_ds = filtered_ds.map(transform_images, num_parallel_calls=tf.data.experimental.AUTOTUNE)\n",
    "    filtered_ds = filtered_ds.unbatch()\n",
    "    cardinality = determine_cardinality(filtered_ds)\n",
    "    print(cardinality)\n",
    "    filtered_ds = filtered_ds.map(normalize_image, num_parallel_calls=tf.data.experimental.AUTOTUNE)\n",
    "    filtered_ds = filtered_ds.map(remove_label, num_parallel_calls=tf.data.experimental.AUTOTUNE)\n",
    "    filtered_ds = filtered_ds.batch(BATCH_SIZE)\n",
    "    filtered_ds = filtered_ds.prefetch(tf.data.experimental.AUTOTUNE)\n",
    "    return filtered_ds\n"
   ]
  },
  {
   "cell_type": "code",
   "execution_count": 64,
   "metadata": {},
   "outputs": [
    {
     "data": {
      "text/plain": [
       "[PhysicalDevice(name='/physical_device:GPU:0', device_type='GPU'),\n",
       " PhysicalDevice(name='/physical_device:GPU:1', device_type='GPU')]"
      ]
     },
     "execution_count": 64,
     "metadata": {},
     "output_type": "execute_result"
    }
   ],
   "source": [
    "tf.config.experimental.list_physical_devices('GPU')"
   ]
  },
  {
   "cell_type": "code",
   "execution_count": 10,
   "metadata": {},
   "outputs": [],
   "source": [
    "from DCGAN import *"
   ]
  },
  {
   "cell_type": "code",
   "execution_count": 70,
   "metadata": {},
   "outputs": [
    {
     "name": "stdout",
     "output_type": "stream",
     "text": [
      "5923\n",
      "6742\n",
      "5958\n",
      "6131\n",
      "5842\n",
      "5421\n",
      "5918\n",
      "6265\n",
      "5851\n",
      "5949\n"
     ]
    }
   ],
   "source": [
    "# First, save all train and test images as resized 32x32x1 images\n",
    "for label in range(10):\n",
    "    resize_and_save_training_data(mnist_train,label)"
   ]
  },
  {
   "cell_type": "code",
   "execution_count": 71,
   "metadata": {},
   "outputs": [
    {
     "name": "stdout",
     "output_type": "stream",
     "text": [
      "980\n",
      "1135\n",
      "1032\n",
      "1010\n",
      "982\n",
      "892\n",
      "958\n",
      "1028\n",
      "974\n",
      "1009\n"
     ]
    }
   ],
   "source": [
    "# First, save all train and test images as resized 32x32x1 images\n",
    "for label in range(10):\n",
    "    resize_and_save_test_data(mnist_test,label)"
   ]
  },
  {
   "cell_type": "code",
   "execution_count": 78,
   "metadata": {
    "scrolled": false
   },
   "outputs": [
    {
     "name": "stdout",
     "output_type": "stream",
     "text": [
      "21680\n"
     ]
    },
    {
     "data": {
      "image/png": "[encoded data removed]",
      "text/plain": [
       "<Figure size 432x288 with 1 Axes>"
      ]
     },
     "metadata": {
      "needs_background": "light"
     },
     "output_type": "display_data"
    }
   ],
   "source": [
    "dataset = create_minst_dataset(5,mnist_train, 0.2)\n",
    "img = dataset.take(1)\n",
    "for image in img:\n",
    "    image = image.numpy()\n",
    "    plt.imshow((image[0, :, :] * 127.5 + 127.5).astype(np.uint8))\n",
    "plt.show()"
   ]
  },
  {
   "cell_type": "code",
   "execution_count": 65,
   "metadata": {
    "scrolled": false
   },
   "outputs": [
    {
     "data": {
      "image/png": "[encoded data removed]",
      "text/plain": [
       "<Figure size 864x864 with 16 Axes>"
      ]
     },
     "metadata": {
      "needs_background": "light"
     },
     "output_type": "display_data"
    },
    {
     "name": "stdout",
     "output_type": "stream",
     "text": [
      "\b\b\b\b\b\b\b\b\b\b\b\b\b\b\b\b\b\b\b\b\b\b\b\b\b\b\b\b\b\b\b\b\b\b\b\b\b\b\b\b\b\b\b\b\b\b\b\b\b\b\b\b\b\b\b\b\b\b\b\b\b\b\b\b\b\b\b\b\b\b\b\b\b\b\b\b\b\b\b\b\b\b\b\b\b\b\b\b\b\b\b\b\b\b\b\b\b\b\b\b\b\b\b\b\b\b\b\b\b\b\b\b\b\b\b\b\b\b\b\b\b\b\b\b\b\b\b\b\b\b\b\b\b\b\b\b\b\b\b\b\b\b\b\b\b\b\b\b\b\b\b\b\b\b\b\b\b\b\b\b\b\b\b\b\b\b\b\b\b\b\b\b\b\b\b\b\b\b\b\b\b\b\b\b\b\b\b\b\b\b\b\b\b\b\b\b\b\b\b\b\b\b\b\b\b\b\b\b\b\b\b\b\b\b\b\b\b\b\b\b\b\b\b\b\b\b\b\b\b\b\b\b\b\b\b\b\b\b\b\b\b\b\b\b\b\b\b\b\b\b\b\b\b\b\b\b\b\b\b\b\b\b\b\b\r",
      "93/93 [==============================] - 3s 36ms/step - Generator_Loss: 0.3538 - Discriminator_Real_Loss: 0.3464 - Discriminator_Generator_Loss: 0.3471 - Average_Discriminator_Loss: 0.3467 - Discriminator_Generator_Accuracy: 0.5022 - Discriminator_Real_Accuracy: 0.4924\n"
     ]
    }
   ],
   "source": [
    "%time\n",
    "## For each number 0 - 9 train a DCGAN \n",
    "\n",
    "for label in range(10):\n",
    "    dataset = create_minst_dataset(label, mnist_train, 0.8) #split off training data for this DCGAN\n",
    "    with strategy.scope():\n",
    "        ##Train and save the DCGAN\n",
    "        generator_optimizer = tf.keras.optimizers.Adam(0.0002, beta_1 = 0.5) #learning rate by x10\n",
    "        discriminator_optimizer = tf.keras.optimizers.Adam(0.0002, beta_1 = 0.5)\n",
    "        gen_dict = {'num_latent':100,\n",
    "                 \"filter_num\":[128,64],\n",
    "                 \"filter_size\":[5,5], \n",
    "                 \"strides\":[2,2],\n",
    "                 'dense':(8,8,256), \n",
    "                 'activation':'leakyrelu', \n",
    "                 'out_channels':1,\n",
    "                 'latent_distribution':'normal'}\n",
    "\n",
    "        disc_dict = {\"filter_num\": [64, 128, 256],\n",
    "                 \"filter_size\": [5, 5, 5],\n",
    "                 'activation': 'leakyrelu',\n",
    "                 'out_channels': 1,\n",
    "                 'dropout':0.3,\n",
    "                 'random_noise':False}\n",
    "        \n",
    "        model_name_label = \"MNIST_\"+str(label)\n",
    "        \n",
    "        model = DCGAN(gen_dict=gen_dict, disc_dict=disc_dict, batch_size=128, model_name=model_name_label,\n",
    "                      distribute=True)\n",
    "        \n",
    "        model.compile(generator_optimizer, discriminator_optimizer, \n",
    "                      tf.keras.losses.BinaryCrossentropy(from_logits=True,\n",
    "                                                         label_smoothing=0.1,\n",
    "                                                         reduction =tf.keras.losses.Reduction.NONE))\n",
    "        model.gen_model.summary()\n",
    "        model.disc_model.summary()\n",
    "        save_callback = SaveModelAndCreateImages()\n",
    "        tensorboard_callback = tf.keras.callbacks.TensorBoard(log_dir=model.log_path)\n",
    "        model.fit(x=dataset, epochs=80, callbacks=[save_callback,tensorboard_callback],shuffle=True)\n",
    "\n",
    "        "
   ]
  },
  {
   "cell_type": "code",
   "execution_count": 67,
   "metadata": {
    "scrolled": true
   },
   "outputs": [
    {
     "name": "stdout",
     "output_type": "stream",
     "text": [
      "WARNING:tensorflow:No training configuration found in the save file, so the model was *not* compiled. Compile it manually.\n"
     ]
    },
    {
     "name": "stderr",
     "output_type": "stream",
     "text": [
      "WARNING:tensorflow:No training configuration found in the save file, so the model was *not* compiled. Compile it manually.\n"
     ]
    },
    {
     "data": {
      "image/png": "[encoded data removed]",
      "text/plain": [
       "<Figure size 432x288 with 1 Axes>"
      ]
     },
     "metadata": {
      "needs_background": "light"
     },
     "output_type": "display_data"
    }
   ],
   "source": [
    "#Load trained models\n",
    "mnist_models = tf.io.gfile.glob('MNIST/Models_0.8/*.h5')\n",
    "mnist_models = sorted(mnist_models) \n",
    "\n",
    "#Check generator output\n",
    "Generator = tf.keras.models.load_model(mnist_models[0])\n",
    "random_img =tf.random.normal([1, 100], stddev=0.2)\n",
    "each = Generator(random_img, training=False)\n",
    "each = each.numpy()\n",
    "plt.imshow((each[0, :, :, :] * 127.5 + 127.5).astype(np.uint8))\n",
    "plt.show()"
   ]
  },
  {
   "cell_type": "code",
   "execution_count": 68,
   "metadata": {},
   "outputs": [
    {
     "name": "stdout",
     "output_type": "stream",
     "text": [
      "WARNING:tensorflow:No training configuration found in the save file, so the model was *not* compiled. Compile it manually.\n"
     ]
    },
    {
     "name": "stderr",
     "output_type": "stream",
     "text": [
      "WARNING:tensorflow:No training configuration found in the save file, so the model was *not* compiled. Compile it manually.\n"
     ]
    },
    {
     "name": "stdout",
     "output_type": "stream",
     "text": [
      "WARNING:tensorflow:No training configuration found in the save file, so the model was *not* compiled. Compile it manually.\n"
     ]
    },
    {
     "name": "stderr",
     "output_type": "stream",
     "text": [
      "WARNING:tensorflow:No training configuration found in the save file, so the model was *not* compiled. Compile it manually.\n"
     ]
    },
    {
     "name": "stdout",
     "output_type": "stream",
     "text": [
      "WARNING:tensorflow:No training configuration found in the save file, so the model was *not* compiled. Compile it manually.\n"
     ]
    },
    {
     "name": "stderr",
     "output_type": "stream",
     "text": [
      "WARNING:tensorflow:No training configuration found in the save file, so the model was *not* compiled. Compile it manually.\n"
     ]
    },
    {
     "name": "stdout",
     "output_type": "stream",
     "text": [
      "WARNING:tensorflow:No training configuration found in the save file, so the model was *not* compiled. Compile it manually.\n"
     ]
    },
    {
     "name": "stderr",
     "output_type": "stream",
     "text": [
      "WARNING:tensorflow:No training configuration found in the save file, so the model was *not* compiled. Compile it manually.\n"
     ]
    },
    {
     "name": "stdout",
     "output_type": "stream",
     "text": [
      "WARNING:tensorflow:No training configuration found in the save file, so the model was *not* compiled. Compile it manually.\n"
     ]
    },
    {
     "name": "stderr",
     "output_type": "stream",
     "text": [
      "WARNING:tensorflow:No training configuration found in the save file, so the model was *not* compiled. Compile it manually.\n"
     ]
    },
    {
     "name": "stdout",
     "output_type": "stream",
     "text": [
      "WARNING:tensorflow:No training configuration found in the save file, so the model was *not* compiled. Compile it manually.\n"
     ]
    },
    {
     "name": "stderr",
     "output_type": "stream",
     "text": [
      "WARNING:tensorflow:No training configuration found in the save file, so the model was *not* compiled. Compile it manually.\n"
     ]
    },
    {
     "name": "stdout",
     "output_type": "stream",
     "text": [
      "WARNING:tensorflow:No training configuration found in the save file, so the model was *not* compiled. Compile it manually.\n"
     ]
    },
    {
     "name": "stderr",
     "output_type": "stream",
     "text": [
      "WARNING:tensorflow:No training configuration found in the save file, so the model was *not* compiled. Compile it manually.\n"
     ]
    },
    {
     "name": "stdout",
     "output_type": "stream",
     "text": [
      "WARNING:tensorflow:No training configuration found in the save file, so the model was *not* compiled. Compile it manually.\n"
     ]
    },
    {
     "name": "stderr",
     "output_type": "stream",
     "text": [
      "WARNING:tensorflow:No training configuration found in the save file, so the model was *not* compiled. Compile it manually.\n"
     ]
    },
    {
     "name": "stdout",
     "output_type": "stream",
     "text": [
      "WARNING:tensorflow:No training configuration found in the save file, so the model was *not* compiled. Compile it manually.\n"
     ]
    },
    {
     "name": "stderr",
     "output_type": "stream",
     "text": [
      "WARNING:tensorflow:No training configuration found in the save file, so the model was *not* compiled. Compile it manually.\n"
     ]
    },
    {
     "name": "stdout",
     "output_type": "stream",
     "text": [
      "WARNING:tensorflow:No training configuration found in the save file, so the model was *not* compiled. Compile it manually.\n"
     ]
    },
    {
     "name": "stderr",
     "output_type": "stream",
     "text": [
      "WARNING:tensorflow:No training configuration found in the save file, so the model was *not* compiled. Compile it manually.\n"
     ]
    }
   ],
   "source": [
    "#For each of the trained DCGAN models, generate labeled training data to train classifier on\n",
    "Num_images_to_gen = 30000\n",
    "for idx in range(len(mnist_models)):\n",
    "    Generator = tf.keras.models.load_model(mnist_models[idx])\n",
    "    model_path = 'MNIST/Data_0.8/'+str(idx)+'/'\n",
    "    for img in range(Num_images_to_gen):\n",
    "        random_img = tf.random.normal([1, 100], stddev=0.2)\n",
    "        image = Generator(random_img, training=False)\n",
    "        image = image.numpy()\n",
    "        image = image[0, :, :, 0] * 127.5 + 127.5\n",
    "        image = image.astype(np.uint8)\n",
    "        image = Image.fromarray(image)\n",
    "        image.save(model_path+str(img)+'.jpg')"
   ]
  },
  {
   "cell_type": "code",
   "execution_count": 72,
   "metadata": {},
   "outputs": [
    {
     "name": "stdout",
     "output_type": "stream",
     "text": [
      "Found 300000 files belonging to 10 classes.\n",
      "Found 60000 files belonging to 10 classes.\n",
      "Found 10000 files belonging to 10 classes.\n"
     ]
    }
   ],
   "source": [
    "#Using Tensorflow 2.3's image_dataset_from_directory on directories constructed earlier\n",
    "Generated_Dataset = tf.keras.preprocessing.image_dataset_from_directory(\n",
    "    'MNIST/Data_0.8',\n",
    "    labels=\"inferred\",\n",
    "    label_mode=\"int\",\n",
    "    class_names=None,\n",
    "    color_mode=\"grayscale\",\n",
    "    batch_size=1,\n",
    "    image_size=(32, 32),\n",
    "    shuffle=True,\n",
    "    seed=None,\n",
    "    validation_split=None,\n",
    "    subset=None,\n",
    "    interpolation=\"bilinear\",\n",
    "    follow_links=False,\n",
    ")\n",
    "\n",
    "Original_Dataset = tf.keras.preprocessing.image_dataset_from_directory(\n",
    "    'MNIST/TrainImages',\n",
    "    labels=\"inferred\",\n",
    "    label_mode=\"int\",\n",
    "    class_names=None,\n",
    "    color_mode=\"grayscale\",\n",
    "    batch_size=1,\n",
    "    image_size=(32, 32),\n",
    "    shuffle=True,\n",
    "    seed=None,\n",
    "    validation_split=None,\n",
    "    subset=None,\n",
    "    interpolation=\"bilinear\",\n",
    "    follow_links=False,\n",
    ")\n",
    "\n",
    "\n",
    "Test_Dataset = tf.keras.preprocessing.image_dataset_from_directory(\n",
    "    'MNIST/TestImages',\n",
    "    labels=\"inferred\",\n",
    "    label_mode=\"int\",\n",
    "    class_names=None,\n",
    "    color_mode=\"grayscale\",\n",
    "    batch_size=1,\n",
    "    image_size=(32, 32),\n",
    "    shuffle=False,\n",
    "    seed=None,\n",
    "    validation_split=None,\n",
    "    subset=None,\n",
    "    interpolation=\"bilinear\",\n",
    "    follow_links=False,\n",
    ")"
   ]
  },
  {
   "cell_type": "code",
   "execution_count": 73,
   "metadata": {},
   "outputs": [],
   "source": [
    "# No augmentation applied, simply converted to RGB for EfficientNet\n",
    "Generated_Dataset = Generated_Dataset.unbatch()\n",
    "Generated_Dataset = Generated_Dataset.map(convert_to_rgb)\n",
    "Generated_Dataset = Generated_Dataset.shuffle(1337)\n",
    "Generated_Dataset = Generated_Dataset.batch(512)\n",
    "Generated_Dataset = Generated_Dataset.prefetch(tf.data.experimental.AUTOTUNE)\n",
    "#Generated_Dataset = Generated_Dataset.buffer(20000)\n"
   ]
  },
  {
   "cell_type": "code",
   "execution_count": 38,
   "metadata": {},
   "outputs": [],
   "source": [
    "#Apply augmentation to the original dataset, batch and shuffle\n",
    "Original_Dataset = Original_Dataset.unbatch()\n",
    "Original_Dataset = Original_Dataset.map(lambda image,label: convert_to_rgb(image, label, augment=True),num_parallel_calls=tf.data.experimental.AUTOTUNE)\n",
    "Original_Dataset = Original_Dataset.unbatch()\n",
    "Original_Dataset = Original_Dataset.shuffle(1337)\n",
    "Original_Dataset = Original_Dataset.batch(512)\n",
    "Original_Dataset = Original_Dataset.buffer(20000)\n",
    "Original_Dataset = Original_Dataset.prefetch(tf.data.experimental.AUTOTUNE)\n"
   ]
  },
  {
   "cell_type": "code",
   "execution_count": null,
   "metadata": {},
   "outputs": [],
   "source": [
    "### Convert to RGB for effnet\n",
    "def convert_to_rgb_test (image, label, augment=False):\n",
    "    image = tf.image.resize(image,(32,32))\n",
    "    image = tf.cast(image, tf.float32)\n",
    "    image = image * (1./255.)\n",
    "    image = tf.image.grayscale_to_rgb(image)\n",
    "    if augment == True:\n",
    "        image, label = transform_images(image,label)\n",
    "    else:\n",
    "        label = tf.one_hot(label, 10)\n",
    "    return image, label"
   ]
  },
  {
   "cell_type": "code",
   "execution_count": null,
   "metadata": {},
   "outputs": [],
   "source": [
    "mnist_train_test = mnist['train']\n",
    "mnist_train_test = mnist_train_test.map(convert_to_rgb_test,num_parallel_calls=tf.data.experimental.AUTOTUNE)\n",
    "mnist_train_test = mnist_train_test.batch(512)\n",
    "mnist_train_test = mnist_train_test.batch(512)"
   ]
  },
  {
   "cell_type": "code",
   "execution_count": 57,
   "metadata": {},
   "outputs": [],
   "source": [
    "Test_Dataset = Test_Dataset.unbatch()\n",
    "Test_Dataset = Test_Dataset.map(convert_to_rgb)\n",
    "Test_Dataset = Test_Dataset.batch(100)\n"
   ]
  },
  {
   "cell_type": "code",
   "execution_count": 125,
   "metadata": {},
   "outputs": [
    {
     "name": "stdout",
     "output_type": "stream",
     "text": [
      "[1. 0. 0. 0. 0. 0. 0. 0. 0. 0.]\n"
     ]
    },
    {
     "data": {
      "image/png": "[encoded data removed]",
      "text/plain": [
       "<Figure size 432x288 with 1 Axes>"
      ]
     },
     "metadata": {
      "needs_background": "light"
     },
     "output_type": "display_data"
    }
   ],
   "source": [
    "#Check Test images\n",
    "for img, label in Test_Dataset.take(1):\n",
    "    img = img.numpy()\n",
    "    print(label.numpy()[55])\n",
    "    plt.imshow((img[55, :, :, :]))\n",
    "plt.show()"
   ]
  },
  {
   "cell_type": "code",
   "execution_count": 106,
   "metadata": {},
   "outputs": [
    {
     "name": "stdout",
     "output_type": "stream",
     "text": [
      "[0. 0. 1. 0. 0. 0. 0. 0. 0. 0.]\n"
     ]
    },
    {
     "data": {
      "image/png": "[encoded data removed]",
      "text/plain": [
       "<Figure size 432x288 with 1 Axes>"
      ]
     },
     "metadata": {
      "needs_background": "light"
     },
     "output_type": "display_data"
    }
   ],
   "source": [
    "#Check Training Images\n",
    "for img, label in Original_Dataset.take(1):\n",
    "    img = img.numpy()\n",
    "    print(label.numpy()[125])\n",
    "    plt.imshow((img[125, :, :, :]))\n",
    "plt.show()"
   ]
  },
  {
   "cell_type": "code",
   "execution_count": 45,
   "metadata": {},
   "outputs": [],
   "source": [
    "## Compile EfficientNet B0 Model \n",
    "\n",
    "## Reusing my code from the kaggle competition for the efficientnet code\n",
    "def compile_model():\n",
    "    model_base = tf.keras.applications.EfficientNetB0(include_top=False,\n",
    "                                                      weights='imagenet',\n",
    "                                                      input_shape = (32,32,3))\n",
    "    ##Defining the top\n",
    "    modeltop = tf.keras.Sequential([\n",
    "        tf.keras.layers.GlobalAveragePooling2D(),\n",
    "        tf.keras.layers.Dropout(0.30),\n",
    "        tf.keras.layers.Dense(512),\n",
    "        tf.keras.layers.ReLU(),\n",
    "        tf.keras.layers.Dense(10, activation='softmax', dtype='float32') ])\n",
    "    \n",
    "    sgd = tf.keras.optimizers.SGD(learning_rate=0.001, momentum=0.3, nesterov=False) ## Basic SGD appears to work best here\n",
    "    full_model = tf.keras.Model(inputs=model_base.input, outputs=modeltop(model_base.output))\n",
    "    optimizer = tf.keras.optimizers.RMSprop(\n",
    "    learning_rate=0.005, rho=0.9, momentum=0.00, epsilon=1e-07, centered=False,\n",
    "    name='RMSprop')\n",
    "    \n",
    "    loss = tf.keras.losses.CategoricalCrossentropy() \n",
    "    full_model.compile(optimizer=sgd,loss=loss,metrics=['accuracy'])\n",
    "    \n",
    "    return full_model"
   ]
  },
  {
   "cell_type": "code",
   "execution_count": 31,
   "metadata": {},
   "outputs": [
    {
     "name": "stdout",
     "output_type": "stream",
     "text": [
      "586\n"
     ]
    }
   ],
   "source": [
    "print(determine_cardinality(Original_Dataset))"
   ]
  },
  {
   "cell_type": "code",
   "execution_count": 46,
   "metadata": {},
   "outputs": [
    {
     "name": "stdout",
     "output_type": "stream",
     "text": [
      "Epoch 1/40\n",
      "INFO:tensorflow:batch_all_reduce: 215 all-reduces with algorithm = nccl, num_packs = 1\n"
     ]
    },
    {
     "name": "stderr",
     "output_type": "stream",
     "text": [
      "INFO:tensorflow:batch_all_reduce: 215 all-reduces with algorithm = nccl, num_packs = 1\n"
     ]
    },
    {
     "name": "stdout",
     "output_type": "stream",
     "text": [
      "INFO:tensorflow:batch_all_reduce: 215 all-reduces with algorithm = nccl, num_packs = 1\n"
     ]
    },
    {
     "name": "stderr",
     "output_type": "stream",
     "text": [
      "INFO:tensorflow:batch_all_reduce: 215 all-reduces with algorithm = nccl, num_packs = 1\n"
     ]
    },
    {
     "name": "stdout",
     "output_type": "stream",
     "text": [
      "586/586 [==============================] - 27s 47ms/step - loss: 1.9749 - accuracy: 0.3269\n",
      "Epoch 2/40\n",
      "586/586 [==============================] - 27s 46ms/step - loss: 1.1652 - accuracy: 0.6363\n",
      "Epoch 3/40\n",
      "586/586 [==============================] - 27s 46ms/step - loss: 0.7488 - accuracy: 0.7774\n",
      "Epoch 4/40\n",
      "586/586 [==============================] - 27s 47ms/step - loss: 0.5435 - accuracy: 0.8376\n",
      "Epoch 5/40\n",
      "586/586 [==============================] - 27s 47ms/step - loss: 0.4351 - accuracy: 0.8691\n",
      "Epoch 6/40\n",
      "586/586 [==============================] - 27s 47ms/step - loss: 0.3670 - accuracy: 0.8893\n",
      "Epoch 7/40\n",
      "586/586 [==============================] - 27s 47ms/step - loss: 0.3261 - accuracy: 0.9012\n",
      "Epoch 8/40\n",
      "586/586 [==============================] - 27s 47ms/step - loss: 0.2925 - accuracy: 0.9109\n",
      "Epoch 9/40\n",
      "586/586 [==============================] - 27s 47ms/step - loss: 0.2691 - accuracy: 0.9191\n",
      "Epoch 10/40\n",
      "586/586 [==============================] - 27s 47ms/step - loss: 0.2493 - accuracy: 0.9241\n",
      "Epoch 11/40\n",
      "586/586 [==============================] - 27s 47ms/step - loss: 0.2292 - accuracy: 0.9301\n",
      "Epoch 12/40\n",
      "586/586 [==============================] - 27s 46ms/step - loss: 0.2145 - accuracy: 0.9350\n",
      "Epoch 13/40\n",
      "586/586 [==============================] - 27s 47ms/step - loss: 0.2035 - accuracy: 0.9385\n",
      "Epoch 14/40\n",
      "586/586 [==============================] - 27s 47ms/step - loss: 0.1902 - accuracy: 0.9426\n",
      "Epoch 15/40\n",
      "586/586 [==============================] - 27s 47ms/step - loss: 0.1794 - accuracy: 0.9462\n",
      "Epoch 16/40\n",
      "586/586 [==============================] - 28s 47ms/step - loss: 0.1721 - accuracy: 0.9489\n",
      "Epoch 17/40\n",
      "586/586 [==============================] - 27s 47ms/step - loss: 0.1644 - accuracy: 0.9508\n",
      "Epoch 18/40\n",
      "586/586 [==============================] - 27s 47ms/step - loss: 0.1565 - accuracy: 0.9535\n",
      "Epoch 19/40\n",
      "586/586 [==============================] - 27s 47ms/step - loss: 0.1493 - accuracy: 0.9553\n",
      "Epoch 20/40\n",
      "586/586 [==============================] - 27s 46ms/step - loss: 0.1454 - accuracy: 0.9564\n",
      "Epoch 21/40\n",
      "586/586 [==============================] - 27s 47ms/step - loss: 0.1392 - accuracy: 0.9587\n",
      "Epoch 22/40\n",
      "586/586 [==============================] - 27s 46ms/step - loss: 0.1345 - accuracy: 0.9599\n",
      "Epoch 23/40\n",
      "586/586 [==============================] - 27s 46ms/step - loss: 0.1290 - accuracy: 0.9614\n",
      "Epoch 24/40\n",
      "586/586 [==============================] - 27s 46ms/step - loss: 0.1250 - accuracy: 0.9626\n",
      "Epoch 25/40\n",
      "586/586 [==============================] - 27s 46ms/step - loss: 0.1206 - accuracy: 0.9646\n",
      "Epoch 26/40\n",
      "586/586 [==============================] - 27s 46ms/step - loss: 0.1159 - accuracy: 0.9653\n",
      "Epoch 27/40\n",
      "586/586 [==============================] - 27s 46ms/step - loss: 0.1124 - accuracy: 0.9665\n",
      "Epoch 28/40\n",
      "586/586 [==============================] - 27s 47ms/step - loss: 0.1094 - accuracy: 0.9677\n",
      "Epoch 29/40\n",
      "586/586 [==============================] - 27s 47ms/step - loss: 0.1072 - accuracy: 0.9682\n",
      "Epoch 30/40\n",
      "586/586 [==============================] - 27s 47ms/step - loss: 0.1036 - accuracy: 0.9697\n",
      "Epoch 31/40\n",
      "586/586 [==============================] - 27s 46ms/step - loss: 0.1018 - accuracy: 0.9697\n",
      "Epoch 32/40\n",
      "586/586 [==============================] - 27s 46ms/step - loss: 0.0975 - accuracy: 0.9712\n",
      "Epoch 33/40\n",
      "586/586 [==============================] - 27s 46ms/step - loss: 0.0951 - accuracy: 0.9718\n",
      "Epoch 34/40\n",
      "586/586 [==============================] - 27s 46ms/step - loss: 0.0929 - accuracy: 0.9725\n",
      "Epoch 35/40\n",
      "586/586 [==============================] - 27s 46ms/step - loss: 0.0917 - accuracy: 0.9724\n",
      "Epoch 36/40\n",
      "586/586 [==============================] - 27s 46ms/step - loss: 0.0890 - accuracy: 0.9735\n",
      "Epoch 37/40\n",
      "586/586 [==============================] - 27s 46ms/step - loss: 0.0870 - accuracy: 0.9741\n",
      "Epoch 38/40\n",
      "586/586 [==============================] - 27s 47ms/step - loss: 0.0843 - accuracy: 0.9748\n",
      "Epoch 39/40\n",
      "586/586 [==============================] - 27s 47ms/step - loss: 0.0825 - accuracy: 0.9755\n",
      "Epoch 40/40\n",
      "586/586 [==============================] - 27s 47ms/step - loss: 0.0825 - accuracy: 0.9754\n"
     ]
    }
   ],
   "source": [
    "with strategy.scope():\n",
    "    Original_model = compile_model()\n",
    "    Original_model.fit(x=Original_Dataset, shuffle=True, epochs=40)"
   ]
  },
  {
   "cell_type": "code",
   "execution_count": null,
   "metadata": {},
   "outputs": [
    {
     "name": "stdout",
     "output_type": "stream",
     "text": [
      "Epoch 1/40\n",
      "586/586 [==============================] - 32s 55ms/step - loss: 2.0228 - accuracy: 0.3010\n",
      "Epoch 2/40\n",
      "586/586 [==============================] - 32s 54ms/step - loss: 1.2156 - accuracy: 0.6175\n",
      "Epoch 3/40\n",
      "586/586 [==============================] - 31s 53ms/step - loss: 0.8092 - accuracy: 0.7556\n",
      "Epoch 4/40\n",
      "586/586 [==============================] - 31s 53ms/step - loss: 0.6009 - accuracy: 0.8202\n",
      "Epoch 5/40\n",
      "586/586 [==============================] - 31s 53ms/step - loss: 0.4818 - accuracy: 0.8557\n",
      "Epoch 6/40\n",
      "586/586 [==============================] - 31s 53ms/step - loss: 0.4029 - accuracy: 0.8782\n",
      "Epoch 7/40\n",
      "586/586 [==============================] - 31s 53ms/step - loss: 0.3482 - accuracy: 0.8955\n",
      "Epoch 8/40\n",
      "421/586 [====================>.........] - ETA: 8s - loss: 0.3121 - accuracy: 0.9073"
     ]
    }
   ],
   "source": [
    "with strategy.scope():\n",
    "    Generated_model = compile_model()\n",
    "    Generated_model.fit(x=Generated_Dataset, shuffle=True, epochs=40)"
   ]
  },
  {
   "cell_type": "code",
   "execution_count": 47,
   "metadata": {},
   "outputs": [
    {
     "name": "stdout",
     "output_type": "stream",
     "text": [
      "100/100 [==============================] - 1s 12ms/step - loss: 0.1851 - accuracy: 0.9438\n"
     ]
    },
    {
     "data": {
      "text/plain": [
       "[0.18514300882816315, 0.9437999725341797]"
      ]
     },
     "execution_count": 47,
     "metadata": {},
     "output_type": "execute_result"
    }
   ],
   "source": [
    "Original_model.evaluate(Test_Dataset)"
   ]
  },
  {
   "cell_type": "code",
   "execution_count": 58,
   "metadata": {},
   "outputs": [
    {
     "name": "stdout",
     "output_type": "stream",
     "text": [
      "100/100 [==============================] - 1s 12ms/step - loss: 0.4662 - accuracy: 0.8599\n"
     ]
    },
    {
     "data": {
      "text/plain": [
       "[0.4661547839641571, 0.8598999977111816]"
      ]
     },
     "execution_count": 58,
     "metadata": {},
     "output_type": "execute_result"
    }
   ],
   "source": [
    "Generated_model.evaluate(Test_Dataset)"
   ]
  },
  {
   "cell_type": "code",
   "execution_count": null,
   "metadata": {},
   "outputs": [],
   "source": []
  }
 ],
 "metadata": {
  "kernelspec": {
   "display_name": "Python 3",
   "language": "python",
   "name": "python3"
  },
  "language_info": {
   "codemirror_mode": {
    "name": "ipython",
    "version": 3
   },
   "file_extension": ".py",
   "mimetype": "text/x-python",
   "name": "python",
   "nbconvert_exporter": "python",
   "pygments_lexer": "ipython3",
   "version": "3.7.9"
  }
 },
 "nbformat": 4,
 "nbformat_minor": 4
}
